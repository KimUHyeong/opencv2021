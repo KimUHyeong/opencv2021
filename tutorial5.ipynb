{
 "cells": [
  {
   "cell_type": "code",
   "execution_count": 3,
   "id": "1cb6d72d-3c1f-44ea-ad9f-f2e495c584df",
   "metadata": {},
   "outputs": [],
   "source": [
    "x = 3"
   ]
  },
  {
   "cell_type": "code",
   "execution_count": 12,
   "id": "d236c931-755b-469c-a333-5f1c16290866",
   "metadata": {},
   "outputs": [
    {
     "name": "stdout",
     "output_type": "stream",
     "text": [
      "3 still in the loop\n",
      "4 still in the loop\n"
     ]
    }
   ],
   "source": [
    "while x < 5:\n",
    "    print (x, \"still in the loop\")\n",
    "    x=x+1"
   ]
  },
  {
   "cell_type": "code",
   "execution_count": 13,
   "id": "e734cf5b-5e04-4c51-8b04-3f4ae1223ecc",
   "metadata": {},
   "outputs": [],
   "source": [
    "x=6"
   ]
  },
  {
   "cell_type": "code",
   "execution_count": 14,
   "id": "3c1844a8-1027-42db-9904-85c47d3c02c5",
   "metadata": {},
   "outputs": [],
   "source": [
    "while x < 5:\n",
    "    print(x, \"still in the loop\")"
   ]
  },
  {
   "cell_type": "code",
   "execution_count": null,
   "id": "f683b5a3-caad-4710-9439-5cafc2e7eaa0",
   "metadata": {},
   "outputs": [],
   "source": []
  }
 ],
 "metadata": {
  "kernelspec": {
   "display_name": "Python 3",
   "language": "python",
   "name": "python3"
  },
  "language_info": {
   "codemirror_mode": {
    "name": "ipython",
    "version": 3
   },
   "file_extension": ".py",
   "mimetype": "text/x-python",
   "name": "python",
   "nbconvert_exporter": "python",
   "pygments_lexer": "ipython3",
   "version": "3.9.4"
  }
 },
 "nbformat": 4,
 "nbformat_minor": 5
}
