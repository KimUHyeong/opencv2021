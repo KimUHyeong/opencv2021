{
 "cells": [
  {
   "cell_type": "code",
   "execution_count": 1,
   "id": "acffdad6-4e86-48b0-8eea-43cb9b42c255",
   "metadata": {},
   "outputs": [],
   "source": [
    "import numpy as np"
   ]
  },
  {
   "cell_type": "code",
   "execution_count": 2,
   "id": "5ca98a1e-22a9-493a-a77c-612c2e3d451a",
   "metadata": {},
   "outputs": [],
   "source": [
    "import cv2"
   ]
  },
  {
   "cell_type": "code",
   "execution_count": 3,
   "id": "bc1e2031-036b-4832-b13f-1a6fd053cffd",
   "metadata": {},
   "outputs": [],
   "source": [
    "img = cv2.imread('image.jpg',0)\n",
    "cv2.imshow('image',img)\n",
    "cv2.waitKey(0)\n",
    "cv2.destroyAllWindows()\n",
    "drawing = False # true if mouse is pressed\n",
    "mode = 0 # if True, draw rectangle. Press 'm' to toggle to curve\n",
    "ix,iy = -1,-1\n",
    "cx,cy = -1,-1\n",
    "font = cv2.FONT_HERSHEY_SIMPLEX\n",
    "\n",
    "# mouse callback function\n",
    "def draw_circle(event,x,y,flags,param):\n",
    "    global ix,iy,cx,cy,drawing,mode\n",
    "    \n",
    "    if event == cv2.EVENT_LBUTTONDOWN:\n",
    "        drawing = True\n",
    "        ix,iy = x,y\n",
    "        cx, cy = x,y\n",
    "        \n",
    "    elif event == cv2.EVENT_MOUSEMOVE:\n",
    "        if drawing == True:\n",
    "            cx, cy = x,y\n",
    "                \n",
    "    elif event == cv2.EVENT_LBUTTONUP:\n",
    "        drawing = False\n",
    "        cx, cy = x,y\n",
    "def nothing(x):\n",
    "    pass\n",
    "img = cv2.imread('image.jpg')\n",
    "cv2.namedWindow('image')\n",
    "cv2.setMouseCallback('image',draw_circle)\n",
    "cv2.createTrackbar('value','image',0,255,nothing)\n",
    "\n",
    "while(1):\n",
    "    img = cv2.imread('image.jpg')\n",
    "    k = cv2.waitKey(1) & 0xFF\n",
    "    if k == ord('m'):\n",
    "        mode+=1\n",
    "        if mode > 3:\n",
    "            mode=0\n",
    "    elif k == 27:\n",
    "        break\n",
    "        # get current positions of four trackbars\n",
    "    value = cv2.getTrackbarPos('value','image')\n",
    "\n",
    "    if ix != -1 and iy != -1:\n",
    "        cv2.rectangle(img,(ix,iy),(cx,cy),(0,255,0),0) \n",
    "        if mode == 1:\n",
    "            clip = img[iy:cy,ix:cx]\n",
    "            clip[:,:,1]=0 #green\n",
    "            clip[:,:,2]=0 #red\n",
    "        elif mode == 2:\n",
    "            clip = img[iy:cy,ix:cx]\n",
    "            clip[:,:,0]=0 #blue\n",
    "            clip[:,:,2]=0 #red\n",
    "        elif mode == 3:\n",
    "            clip = img[iy:cy,ix:cx]\n",
    "            clip[:,:,0]=0 #blue\n",
    "            clip[:,:,1]=0 #green\n",
    "    msg = \"Mouse position (\"+str(ix)+\",\"+str(iy)+\") - (\"+str(cx)+\",\"+str(cy)+\") - \"+str(mode)\n",
    "    cv2.putText(img,msg,(10,30),font,.6,(255,255,255),1,cv2.LINE_AA)\n",
    "    cv2.imshow('image',img)\n",
    "        \n",
    "cv2.destroyAllWindows()"
   ]
  },
  {
   "cell_type": "code",
   "execution_count": 13,
   "id": "d0303462-0ec8-4b0c-aaaa-292e349718f6",
   "metadata": {},
   "outputs": [],
   "source": []
  },
  {
   "cell_type": "code",
   "execution_count": 15,
   "id": "cf940cd1-db85-42f8-89c7-67f12160ba07",
   "metadata": {},
   "outputs": [],
   "source": []
  },
  {
   "cell_type": "code",
   "execution_count": null,
   "id": "5514f746-a341-4a44-b53c-6f8cd1897805",
   "metadata": {},
   "outputs": [],
   "source": []
  }
 ],
 "metadata": {
  "kernelspec": {
   "display_name": "Python 3",
   "language": "python",
   "name": "python3"
  },
  "language_info": {
   "codemirror_mode": {
    "name": "ipython",
    "version": 3
   },
   "file_extension": ".py",
   "mimetype": "text/x-python",
   "name": "python",
   "nbconvert_exporter": "python",
   "pygments_lexer": "ipython3",
   "version": "3.9.4"
  }
 },
 "nbformat": 4,
 "nbformat_minor": 5
}
