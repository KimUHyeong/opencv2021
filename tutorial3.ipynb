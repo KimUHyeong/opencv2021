{
 "cells": [
  {
   "cell_type": "code",
   "execution_count": 2,
   "id": "4d0ba1da-78e9-4f53-8cf0-ed2b592be646",
   "metadata": {},
   "outputs": [],
   "source": [
    "d = {'user':'bozo', 'pswd':1234}"
   ]
  },
  {
   "cell_type": "code",
   "execution_count": 3,
   "id": "9a6e5d83-72e2-43b4-ace4-6d810bc0f692",
   "metadata": {},
   "outputs": [
    {
     "data": {
      "text/plain": [
       "'bozo'"
      ]
     },
     "execution_count": 3,
     "metadata": {},
     "output_type": "execute_result"
    }
   ],
   "source": [
    "d['user']"
   ]
  },
  {
   "cell_type": "code",
   "execution_count": 4,
   "id": "af91b6ff-1e0d-4c32-8391-1a7e70050ebe",
   "metadata": {},
   "outputs": [
    {
     "data": {
      "text/plain": [
       "1234"
      ]
     },
     "execution_count": 4,
     "metadata": {},
     "output_type": "execute_result"
    }
   ],
   "source": [
    "d['pswd']"
   ]
  },
  {
   "cell_type": "code",
   "execution_count": 5,
   "id": "cbd50a3d-61de-46a3-8370-1854b81ca5b2",
   "metadata": {},
   "outputs": [
    {
     "ename": "KeyError",
     "evalue": "'bozo'",
     "output_type": "error",
     "traceback": [
      "\u001b[1;31m---------------------------------------------------------------------------\u001b[0m",
      "\u001b[1;31mKeyError\u001b[0m                                  Traceback (most recent call last)",
      "\u001b[1;32m<ipython-input-5-6355f0876eaa>\u001b[0m in \u001b[0;36m<module>\u001b[1;34m\u001b[0m\n\u001b[1;32m----> 1\u001b[1;33m \u001b[0md\u001b[0m\u001b[1;33m[\u001b[0m\u001b[1;34m'bozo'\u001b[0m\u001b[1;33m]\u001b[0m\u001b[1;33m\u001b[0m\u001b[1;33m\u001b[0m\u001b[0m\n\u001b[0m",
      "\u001b[1;31mKeyError\u001b[0m: 'bozo'"
     ]
    }
   ],
   "source": [
    "d['bozo']"
   ]
  },
  {
   "cell_type": "code",
   "execution_count": 6,
   "id": "9abba705-22a1-47a8-909e-62e99d0fa5bb",
   "metadata": {},
   "outputs": [],
   "source": [
    "d = {'user':'bozo', 'pswd':1234}"
   ]
  },
  {
   "cell_type": "code",
   "execution_count": 7,
   "id": "416b40da-1d63-4887-b6e4-7ddd9078b78a",
   "metadata": {},
   "outputs": [],
   "source": [
    "d['user']='clown'"
   ]
  },
  {
   "cell_type": "code",
   "execution_count": 8,
   "id": "dbcb50da-7bea-4750-9281-59dc47dd59c7",
   "metadata": {},
   "outputs": [
    {
     "data": {
      "text/plain": [
       "{'user': 'clown', 'pswd': 1234}"
      ]
     },
     "execution_count": 8,
     "metadata": {},
     "output_type": "execute_result"
    }
   ],
   "source": [
    "d"
   ]
  },
  {
   "cell_type": "code",
   "execution_count": 9,
   "id": "70361a1b-823b-4220-8253-4f3247f2a156",
   "metadata": {},
   "outputs": [],
   "source": [
    "d['id']=45"
   ]
  },
  {
   "cell_type": "code",
   "execution_count": 10,
   "id": "64bacb93-1275-4c12-9a7f-e37e2a4d7bb4",
   "metadata": {},
   "outputs": [
    {
     "data": {
      "text/plain": [
       "{'user': 'clown', 'pswd': 1234, 'id': 45}"
      ]
     },
     "execution_count": 10,
     "metadata": {},
     "output_type": "execute_result"
    }
   ],
   "source": [
    "d"
   ]
  },
  {
   "cell_type": "code",
   "execution_count": 11,
   "id": "7f503246-d4e2-4c6b-a03f-7601e0735972",
   "metadata": {},
   "outputs": [],
   "source": [
    "d = {'user':'bozo', 'p':1234, 'i':34}"
   ]
  },
  {
   "cell_type": "code",
   "execution_count": 12,
   "id": "057bdde7-3227-4c73-bdd2-575f72ec5e91",
   "metadata": {},
   "outputs": [],
   "source": [
    "del d['user']"
   ]
  },
  {
   "cell_type": "code",
   "execution_count": 13,
   "id": "3f36d4ab-8144-43d6-8066-7af49e155b5f",
   "metadata": {},
   "outputs": [
    {
     "data": {
      "text/plain": [
       "{'p': 1234, 'i': 34}"
      ]
     },
     "execution_count": 13,
     "metadata": {},
     "output_type": "execute_result"
    }
   ],
   "source": [
    "d"
   ]
  },
  {
   "cell_type": "code",
   "execution_count": 14,
   "id": "cb06870c-f6ae-47a4-974d-8fbc3ef421ef",
   "metadata": {},
   "outputs": [],
   "source": [
    "d.clear()"
   ]
  },
  {
   "cell_type": "code",
   "execution_count": 15,
   "id": "d3dae426-55d3-49d1-8c4d-af00dfa0f713",
   "metadata": {},
   "outputs": [
    {
     "data": {
      "text/plain": [
       "{}"
      ]
     },
     "execution_count": 15,
     "metadata": {},
     "output_type": "execute_result"
    }
   ],
   "source": [
    "d"
   ]
  },
  {
   "cell_type": "code",
   "execution_count": 16,
   "id": "6293be64-4484-419b-83af-c82c07dc1ecf",
   "metadata": {},
   "outputs": [],
   "source": [
    "a=[1,2]"
   ]
  },
  {
   "cell_type": "code",
   "execution_count": 17,
   "id": "cd922203-9231-4efb-9b14-2515adfb946f",
   "metadata": {},
   "outputs": [],
   "source": [
    "del a[1]"
   ]
  },
  {
   "cell_type": "code",
   "execution_count": 18,
   "id": "0d8241f3-82e3-49f2-b028-64b1ba5eb3fa",
   "metadata": {},
   "outputs": [
    {
     "data": {
      "text/plain": [
       "[1]"
      ]
     },
     "execution_count": 18,
     "metadata": {},
     "output_type": "execute_result"
    }
   ],
   "source": [
    "a"
   ]
  },
  {
   "cell_type": "code",
   "execution_count": 20,
   "id": "75107b09-abc6-4ef8-b604-3c56288f7ce1",
   "metadata": {},
   "outputs": [],
   "source": [
    "d = {'user':'bozo', 'p':1234, 'i':34}"
   ]
  },
  {
   "cell_type": "code",
   "execution_count": 21,
   "id": "7dce3fd4-acde-454e-bd1b-035b9a4a1fd2",
   "metadata": {},
   "outputs": [
    {
     "data": {
      "text/plain": [
       "dict_keys(['user', 'p', 'i'])"
      ]
     },
     "execution_count": 21,
     "metadata": {},
     "output_type": "execute_result"
    }
   ],
   "source": [
    "d.keys()"
   ]
  },
  {
   "cell_type": "code",
   "execution_count": 22,
   "id": "757ec90b-6608-4c3a-b43a-af245fcdedd7",
   "metadata": {},
   "outputs": [
    {
     "data": {
      "text/plain": [
       "dict_values(['bozo', 1234, 34])"
      ]
     },
     "execution_count": 22,
     "metadata": {},
     "output_type": "execute_result"
    }
   ],
   "source": [
    "d.values()"
   ]
  },
  {
   "cell_type": "code",
   "execution_count": 24,
   "id": "d444b426-5c01-4af7-a068-3a3d172a0f27",
   "metadata": {},
   "outputs": [
    {
     "data": {
      "text/plain": [
       "dict_items([('user', 'bozo'), ('p', 1234), ('i', 34)])"
      ]
     },
     "execution_count": 24,
     "metadata": {},
     "output_type": "execute_result"
    }
   ],
   "source": [
    "d.items()"
   ]
  }
 ],
 "metadata": {
  "kernelspec": {
   "display_name": "Python 3",
   "language": "python",
   "name": "python3"
  },
  "language_info": {
   "codemirror_mode": {
    "name": "ipython",
    "version": 3
   },
   "file_extension": ".py",
   "mimetype": "text/x-python",
   "name": "python",
   "nbconvert_exporter": "python",
   "pygments_lexer": "ipython3",
   "version": "3.9.4"
  }
 },
 "nbformat": 4,
 "nbformat_minor": 5
}
