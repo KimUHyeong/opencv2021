{
 "cells": [
  {
   "cell_type": "markdown",
   "id": "55241aee-c89b-4122-8613-1d0fc94d9608",
   "metadata": {},
   "source": [
    "\n",
    "# for <item> in <collection>:\n",
    "# <statements>"
   ]
  },
  {
   "cell_type": "code",
   "execution_count": null,
   "id": "8331355e-97bd-428b-99a1-26061c47b1bb",
   "metadata": {},
   "outputs": [],
   "source": []
  }
 ],
 "metadata": {
  "kernelspec": {
   "display_name": "Python 3",
   "language": "python",
   "name": "python3"
  },
  "language_info": {
   "codemirror_mode": {
    "name": "ipython",
    "version": 3
   },
   "file_extension": ".py",
   "mimetype": "text/x-python",
   "name": "python",
   "nbconvert_exporter": "python",
   "pygments_lexer": "ipython3",
   "version": "3.9.4"
  }
 },
 "nbformat": 4,
 "nbformat_minor": 5
}
