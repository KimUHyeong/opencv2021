{
 "cells": [
  {
   "cell_type": "code",
   "execution_count": 6,
   "id": "03adc82c-efd1-4460-8a7b-46638bea8645",
   "metadata": {},
   "outputs": [],
   "source": [
    "x,y=2,3"
   ]
  },
  {
   "cell_type": "code",
   "execution_count": 7,
   "id": "d8800db8-8ec1-488c-8aa4-6ff958e331c7",
   "metadata": {},
   "outputs": [
    {
     "data": {
      "text/plain": [
       "2"
      ]
     },
     "execution_count": 7,
     "metadata": {},
     "output_type": "execute_result"
    }
   ],
   "source": [
    "x"
   ]
  },
  {
   "cell_type": "code",
   "execution_count": 8,
   "id": "0f1f2629-566d-4d2c-b898-4a6282e60828",
   "metadata": {},
   "outputs": [
    {
     "data": {
      "text/plain": [
       "3"
      ]
     },
     "execution_count": 8,
     "metadata": {},
     "output_type": "execute_result"
    }
   ],
   "source": [
    "y"
   ]
  },
  {
   "cell_type": "code",
   "execution_count": 9,
   "id": "ebe0479f-5f07-492c-9a81-67fd551bb9ea",
   "metadata": {},
   "outputs": [],
   "source": [
    "tu=(23,'abc',4.56,(2,3),'def')"
   ]
  },
  {
   "cell_type": "code",
   "execution_count": 10,
   "id": "72f62762-3e0a-401a-861b-1e27e8a7b39c",
   "metadata": {},
   "outputs": [
    {
     "data": {
      "text/plain": [
       "23"
      ]
     },
     "execution_count": 10,
     "metadata": {},
     "output_type": "execute_result"
    }
   ],
   "source": [
    "tu[0]"
   ]
  },
  {
   "cell_type": "code",
   "execution_count": 11,
   "id": "a9c4500d-879a-4d49-933c-73a7da691137",
   "metadata": {},
   "outputs": [
    {
     "data": {
      "text/plain": [
       "'abc'"
      ]
     },
     "execution_count": 11,
     "metadata": {},
     "output_type": "execute_result"
    }
   ],
   "source": [
    "tu[1]"
   ]
  },
  {
   "cell_type": "code",
   "execution_count": 12,
   "id": "1923361a-21ed-4a26-a151-3caf23b90bed",
   "metadata": {},
   "outputs": [],
   "source": [
    "li=[\"abc\",34,4.34,23]"
   ]
  },
  {
   "cell_type": "code",
   "execution_count": 13,
   "id": "bcb9f292-6842-4510-800c-f8ed0097cc78",
   "metadata": {},
   "outputs": [
    {
     "data": {
      "text/plain": [
       "34"
      ]
     },
     "execution_count": 13,
     "metadata": {},
     "output_type": "execute_result"
    }
   ],
   "source": [
    "li[1]"
   ]
  },
  {
   "cell_type": "code",
   "execution_count": 14,
   "id": "14a00e2a-c45b-414a-9bf0-281802790d9f",
   "metadata": {},
   "outputs": [
    {
     "data": {
      "text/plain": [
       "4.34"
      ]
     },
     "execution_count": 14,
     "metadata": {},
     "output_type": "execute_result"
    }
   ],
   "source": [
    "li[2]"
   ]
  },
  {
   "cell_type": "code",
   "execution_count": 16,
   "id": "dc5ebf3e-25ea-4be8-b8ed-31537507c4cf",
   "metadata": {},
   "outputs": [
    {
     "data": {
      "text/plain": [
       "\"\\nint x=2;\\nfloat y=2.3;\\nString msg = 'message';\\nint[ ] x={1,2,3};\\nc, java, python\\n\""
      ]
     },
     "execution_count": 16,
     "metadata": {},
     "output_type": "execute_result"
    }
   ],
   "source": [
    "\"\"\"\n",
    "int x=2;\n",
    "float y=2.3;\n",
    "String msg = 'message';\n",
    "int[ ] x={1,2,3};\n",
    "c, java, python\n",
    "\"\"\""
   ]
  },
  {
   "cell_type": "code",
   "execution_count": 17,
   "id": "b9ae59be-637c-4239-a388-5548ef57de71",
   "metadata": {},
   "outputs": [],
   "source": [
    "x=2"
   ]
  },
  {
   "cell_type": "code",
   "execution_count": 22,
   "id": "b36f1396-810a-41a2-92bb-417250d0a12c",
   "metadata": {},
   "outputs": [
    {
     "name": "stdout",
     "output_type": "stream",
     "text": [
      "This is a multi-line\n",
      "\n",
      ".....\n",
      "..\n",
      "string that uses triple quaotes.\n"
     ]
    }
   ],
   "source": [
    "st= \"\"\"This is a multi-line\n",
    "\n",
    ".....\n",
    "..\n",
    "string that uses triple quaotes.\"\"\"\n",
    "print(st)"
   ]
  },
  {
   "cell_type": "code",
   "execution_count": 23,
   "id": "d7ddf167-9085-45c1-88f2-e959c99e811f",
   "metadata": {},
   "outputs": [
    {
     "data": {
      "text/plain": [
       "'i'"
      ]
     },
     "execution_count": 23,
     "metadata": {},
     "output_type": "execute_result"
    }
   ],
   "source": [
    "st[2]"
   ]
  },
  {
   "cell_type": "code",
   "execution_count": 24,
   "id": "f1efa3b7-ffed-4381-aa8c-5eb8c2ddc369",
   "metadata": {},
   "outputs": [
    {
     "data": {
      "text/plain": [
       "'s'"
      ]
     },
     "execution_count": 24,
     "metadata": {},
     "output_type": "execute_result"
    }
   ],
   "source": [
    "st[-2]"
   ]
  },
  {
   "cell_type": "code",
   "execution_count": 28,
   "id": "c840c596-702a-4eda-886a-fa9e189eef61",
   "metadata": {},
   "outputs": [
    {
     "data": {
      "text/plain": [
       "'his is a multi-line\\n\\n.....\\n..\\nstring that uses triple quaotes'"
      ]
     },
     "execution_count": 28,
     "metadata": {},
     "output_type": "execute_result"
    }
   ],
   "source": [
    "st[1:-1:1]"
   ]
  },
  {
   "cell_type": "code",
   "execution_count": 29,
   "id": "db9ebf8f-b63d-4683-936c-d86a3aeec806",
   "metadata": {},
   "outputs": [
    {
     "data": {
      "text/plain": [
       "'hsi  ut-ie\\n..\\n.srn htue rpeqats'"
      ]
     },
     "execution_count": 29,
     "metadata": {},
     "output_type": "execute_result"
    }
   ],
   "source": [
    "st[1:-1:2]"
   ]
  },
  {
   "cell_type": "code",
   "execution_count": 20,
   "id": "3366b8d2-76bc-4a91-83f4-e959bc392a93",
   "metadata": {},
   "outputs": [
    {
     "name": "stdout",
     "output_type": "stream",
     "text": [
      "test\" string\n"
     ]
    }
   ],
   "source": [
    "st = 'test\" string'\n",
    "print(st)"
   ]
  },
  {
   "cell_type": "code",
   "execution_count": 11,
   "id": "3654c4e5-2422-40d2-9b0c-7283a4bfb301",
   "metadata": {},
   "outputs": [],
   "source": [
    "st=\"Hello World\""
   ]
  },
  {
   "cell_type": "code",
   "execution_count": 12,
   "id": "fa18cf03-0a8b-4137-9514-5f5646ac8303",
   "metadata": {},
   "outputs": [
    {
     "data": {
      "text/plain": [
       "'e'"
      ]
     },
     "execution_count": 12,
     "metadata": {},
     "output_type": "execute_result"
    }
   ],
   "source": [
    "st[1]"
   ]
  },
  {
   "cell_type": "code",
   "execution_count": 15,
   "id": "792ca89b-9d7c-40b1-9ab1-575e747d1c0d",
   "metadata": {},
   "outputs": [],
   "source": [
    "st =\"\"\" This is a multi-line\n",
    "string that uses triple quotes.\"\"\""
   ]
  },
  {
   "cell_type": "code",
   "execution_count": 16,
   "id": "d0e0290d-471c-4344-b302-a643a0169a49",
   "metadata": {},
   "outputs": [
    {
     "data": {
      "text/plain": [
       "' This is a multi-line\\nstring that uses triple quotes.'"
      ]
     },
     "execution_count": 16,
     "metadata": {},
     "output_type": "execute_result"
    }
   ],
   "source": [
    "st"
   ]
  },
  {
   "cell_type": "code",
   "execution_count": 17,
   "id": "59f622c7-087d-4845-9b21-0942a64e8286",
   "metadata": {},
   "outputs": [
    {
     "name": "stdout",
     "output_type": "stream",
     "text": [
      " This is a multi-line\n",
      "string that uses triple quotes.\n"
     ]
    }
   ],
   "source": [
    "print(st)"
   ]
  },
  {
   "cell_type": "code",
   "execution_count": 18,
   "id": "a101154c-adf9-431b-9709-fabf6db3e6e1",
   "metadata": {},
   "outputs": [],
   "source": [
    "t=[1,2,3,4,5]"
   ]
  },
  {
   "cell_type": "code",
   "execution_count": 20,
   "id": "2c0115d8-5ba5-4e2f-9f64-87bdcb36e77b",
   "metadata": {},
   "outputs": [
    {
     "data": {
      "text/plain": [
       "True"
      ]
     },
     "execution_count": 20,
     "metadata": {},
     "output_type": "execute_result"
    }
   ],
   "source": [
    "3 in t"
   ]
  },
  {
   "cell_type": "code",
   "execution_count": 30,
   "id": "8fe993bf-743a-4bff-99de-4e432efe4288",
   "metadata": {},
   "outputs": [
    {
     "data": {
      "text/plain": [
       "(1, 2, 1, 2)"
      ]
     },
     "execution_count": 30,
     "metadata": {},
     "output_type": "execute_result"
    }
   ],
   "source": [
    "(1,2)+(1,2)"
   ]
  },
  {
   "cell_type": "code",
   "execution_count": 31,
   "id": "6bc8f71f-378c-4e51-afb4-4a90ac2a4039",
   "metadata": {},
   "outputs": [],
   "source": [
    "# concatenation"
   ]
  },
  {
   "cell_type": "code",
   "execution_count": 33,
   "id": "48b2c85e-5843-48de-8162-386a33ded125",
   "metadata": {},
   "outputs": [
    {
     "data": {
      "text/plain": [
       "'hello world'"
      ]
     },
     "execution_count": 33,
     "metadata": {},
     "output_type": "execute_result"
    }
   ],
   "source": [
    "\"hello\" + \" world\""
   ]
  }
 ],
 "metadata": {
  "kernelspec": {
   "display_name": "Python 3",
   "language": "python",
   "name": "python3"
  },
  "language_info": {
   "codemirror_mode": {
    "name": "ipython",
    "version": 3
   },
   "file_extension": ".py",
   "mimetype": "text/x-python",
   "name": "python",
   "nbconvert_exporter": "python",
   "pygments_lexer": "ipython3",
   "version": "3.9.4"
  }
 },
 "nbformat": 4,
 "nbformat_minor": 5
}
