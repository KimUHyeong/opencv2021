{
 "cells": [
  {
   "cell_type": "code",
   "execution_count": 1,
   "id": "661a3105-e0c6-491c-aff7-23556a31c9f4",
   "metadata": {},
   "outputs": [],
   "source": [
    "li = ['abc',23,4.34,23]"
   ]
  },
  {
   "cell_type": "code",
   "execution_count": 2,
   "id": "8f18ea6d-7629-4cf8-aebc-239e1d2617f4",
   "metadata": {},
   "outputs": [],
   "source": [
    "li[1]=45"
   ]
  },
  {
   "cell_type": "code",
   "execution_count": 3,
   "id": "a4139972-1d7e-404e-828b-856df74d4a05",
   "metadata": {},
   "outputs": [
    {
     "data": {
      "text/plain": [
       "['abc', 45, 4.34, 23]"
      ]
     },
     "execution_count": 3,
     "metadata": {},
     "output_type": "execute_result"
    }
   ],
   "source": [
    "li"
   ]
  },
  {
   "cell_type": "code",
   "execution_count": 4,
   "id": "33eae70a-31bb-415b-83a3-861955400136",
   "metadata": {},
   "outputs": [],
   "source": [
    "t=(23,'abc',4.56,(2,3),'def')"
   ]
  },
  {
   "cell_type": "code",
   "execution_count": 5,
   "id": "205e7322-2b6c-48fb-8e54-7c838e5e6b6f",
   "metadata": {},
   "outputs": [
    {
     "ename": "TypeError",
     "evalue": "'tuple' object does not support item assignment",
     "output_type": "error",
     "traceback": [
      "\u001b[1;31m---------------------------------------------------------------------------\u001b[0m",
      "\u001b[1;31mTypeError\u001b[0m                                 Traceback (most recent call last)",
      "\u001b[1;32m<ipython-input-5-310dce9af69a>\u001b[0m in \u001b[0;36m<module>\u001b[1;34m\u001b[0m\n\u001b[1;32m----> 1\u001b[1;33m \u001b[0mt\u001b[0m\u001b[1;33m[\u001b[0m\u001b[1;36m2\u001b[0m\u001b[1;33m]\u001b[0m\u001b[1;33m=\u001b[0m\u001b[1;36m3.14\u001b[0m\u001b[1;33m\u001b[0m\u001b[1;33m\u001b[0m\u001b[0m\n\u001b[0m",
      "\u001b[1;31mTypeError\u001b[0m: 'tuple' object does not support item assignment"
     ]
    }
   ],
   "source": [
    "t[2]=3.14"
   ]
  },
  {
   "cell_type": "code",
   "execution_count": 6,
   "id": "71c84b77-8fa8-448e-a487-10adb398483e",
   "metadata": {},
   "outputs": [],
   "source": [
    "li=[1,11,3,4,5]"
   ]
  },
  {
   "cell_type": "code",
   "execution_count": 7,
   "id": "14ad0aac-6267-4fff-ab8d-660e44d3f0fa",
   "metadata": {},
   "outputs": [
    {
     "data": {
      "text/plain": [
       "[1, 11, 3, 4, 5]"
      ]
     },
     "execution_count": 7,
     "metadata": {},
     "output_type": "execute_result"
    }
   ],
   "source": [
    "li"
   ]
  },
  {
   "cell_type": "code",
   "execution_count": 9,
   "id": "9ddf59b2-c89b-4b5f-8d01-b94650d4316a",
   "metadata": {},
   "outputs": [],
   "source": [
    "li.insert(2, 'i')"
   ]
  },
  {
   "cell_type": "code",
   "execution_count": 10,
   "id": "6ceab281-e514-4c0d-8b18-f333954b9bb5",
   "metadata": {},
   "outputs": [
    {
     "data": {
      "text/plain": [
       "[1, 11, 'i', 3, 4, 5]"
      ]
     },
     "execution_count": 10,
     "metadata": {},
     "output_type": "execute_result"
    }
   ],
   "source": [
    "li"
   ]
  },
  {
   "cell_type": "code",
   "execution_count": 12,
   "id": "2eeae947-513d-4e5a-917a-935ca77cfc30",
   "metadata": {},
   "outputs": [],
   "source": [
    "li.extend([9,8,7])"
   ]
  },
  {
   "cell_type": "code",
   "execution_count": 13,
   "id": "ac7eda3e-6ebf-49ca-8422-093af82d2353",
   "metadata": {},
   "outputs": [
    {
     "data": {
      "text/plain": [
       "[1, 11, 'i', 3, 4, 5, 9, 8, 7]"
      ]
     },
     "execution_count": 13,
     "metadata": {},
     "output_type": "execute_result"
    }
   ],
   "source": [
    "li"
   ]
  },
  {
   "cell_type": "code",
   "execution_count": 15,
   "id": "e56d6409-e2f4-495c-8b41-c56622f2b2ea",
   "metadata": {},
   "outputs": [],
   "source": [
    "li.append([10,11,12])"
   ]
  },
  {
   "cell_type": "code",
   "execution_count": 16,
   "id": "346c2e06-e284-4137-bf8d-26dd0805e98b",
   "metadata": {},
   "outputs": [
    {
     "data": {
      "text/plain": [
       "[1, 11, 'i', 3, 4, 5, 9, 8, 7, [10, 11, 12]]"
      ]
     },
     "execution_count": 16,
     "metadata": {},
     "output_type": "execute_result"
    }
   ],
   "source": [
    "li"
   ]
  },
  {
   "cell_type": "code",
   "execution_count": 17,
   "id": "ddee47df-242e-47fe-af60-e0dafe9d0bff",
   "metadata": {},
   "outputs": [],
   "source": [
    "li=['a','b','c','b']"
   ]
  },
  {
   "cell_type": "code",
   "execution_count": 18,
   "id": "79e2d29a-8f99-4e69-8835-b6dffb9381cb",
   "metadata": {},
   "outputs": [
    {
     "data": {
      "text/plain": [
       "1"
      ]
     },
     "execution_count": 18,
     "metadata": {},
     "output_type": "execute_result"
    }
   ],
   "source": [
    "li.index('b')"
   ]
  },
  {
   "cell_type": "code",
   "execution_count": 19,
   "id": "e4d06715-69d4-4c79-9e3b-13af8d3b9c95",
   "metadata": {},
   "outputs": [
    {
     "data": {
      "text/plain": [
       "2"
      ]
     },
     "execution_count": 19,
     "metadata": {},
     "output_type": "execute_result"
    }
   ],
   "source": [
    "li.count('b')"
   ]
  },
  {
   "cell_type": "code",
   "execution_count": 20,
   "id": "eda2a1aa-24c1-43cb-8581-06bda545bf4a",
   "metadata": {},
   "outputs": [],
   "source": [
    "li.remove('b')"
   ]
  },
  {
   "cell_type": "code",
   "execution_count": 21,
   "id": "412652fd-4c1c-4027-b710-e8602cb143fd",
   "metadata": {},
   "outputs": [
    {
     "data": {
      "text/plain": [
       "['a', 'c', 'b']"
      ]
     },
     "execution_count": 21,
     "metadata": {},
     "output_type": "execute_result"
    }
   ],
   "source": [
    "li"
   ]
  },
  {
   "cell_type": "code",
   "execution_count": 22,
   "id": "bd5ded76-8ed9-458f-a9cc-780ab6c33183",
   "metadata": {},
   "outputs": [],
   "source": [
    "li=[5,2,6,8]"
   ]
  },
  {
   "cell_type": "code",
   "execution_count": 23,
   "id": "0a8e9ec8-89f6-4378-979b-3eb71f0f2a2b",
   "metadata": {},
   "outputs": [],
   "source": [
    "li.reverse()"
   ]
  },
  {
   "cell_type": "code",
   "execution_count": 24,
   "id": "6fdb68db-85f1-45ed-8bc0-573d24fa51d2",
   "metadata": {},
   "outputs": [
    {
     "data": {
      "text/plain": [
       "[8, 6, 2, 5]"
      ]
     },
     "execution_count": 24,
     "metadata": {},
     "output_type": "execute_result"
    }
   ],
   "source": [
    "li"
   ]
  },
  {
   "cell_type": "code",
   "execution_count": 25,
   "id": "7a10bd6d-fcb0-4c91-8ba3-13c669fb0c10",
   "metadata": {},
   "outputs": [],
   "source": [
    "li.sort()"
   ]
  },
  {
   "cell_type": "code",
   "execution_count": 26,
   "id": "4ef81b8b-5a9a-4f46-af86-1e53edaeaa2f",
   "metadata": {},
   "outputs": [
    {
     "data": {
      "text/plain": [
       "[2, 5, 6, 8]"
      ]
     },
     "execution_count": 26,
     "metadata": {},
     "output_type": "execute_result"
    }
   ],
   "source": [
    "li"
   ]
  }
 ],
 "metadata": {
  "kernelspec": {
   "display_name": "Python 3",
   "language": "python",
   "name": "python3"
  },
  "language_info": {
   "codemirror_mode": {
    "name": "ipython",
    "version": 3
   },
   "file_extension": ".py",
   "mimetype": "text/x-python",
   "name": "python",
   "nbconvert_exporter": "python",
   "pygments_lexer": "ipython3",
   "version": "3.9.4"
  }
 },
 "nbformat": 4,
 "nbformat_minor": 5
}
