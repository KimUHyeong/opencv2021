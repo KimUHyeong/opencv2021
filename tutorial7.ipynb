{
 "cells": [
  {
   "cell_type": "code",
   "execution_count": 5,
   "id": "757875de-2607-4fa8-92e6-5b8009aecea3",
   "metadata": {},
   "outputs": [],
   "source": [
    "li = [3,6,2,7]"
   ]
  },
  {
   "cell_type": "code",
   "execution_count": 6,
   "id": "a15737ed-6f88-458e-994d-194b29c7dbff",
   "metadata": {},
   "outputs": [
    {
     "data": {
      "text/plain": [
       "[6, 12, 4, 14]"
      ]
     },
     "execution_count": 6,
     "metadata": {},
     "output_type": "execute_result"
    }
   ],
   "source": [
    "[elem*2 for elem in li]"
   ]
  },
  {
   "cell_type": "code",
   "execution_count": 7,
   "id": "bd0ec0cc-8ab4-4736-98ba-9ddfaff45ca3",
   "metadata": {},
   "outputs": [],
   "source": [
    "li = [('a',1), ('b',2), ('c',7)]"
   ]
  },
  {
   "cell_type": "code",
   "execution_count": 8,
   "id": "5e041936-58a7-4fdc-95ea-970e1cb0f8a2",
   "metadata": {},
   "outputs": [
    {
     "data": {
      "text/plain": [
       "[3, 6, 21]"
      ]
     },
     "execution_count": 8,
     "metadata": {},
     "output_type": "execute_result"
    }
   ],
   "source": [
    "[n*3 for (x,n) in li]"
   ]
  },
  {
   "cell_type": "code",
   "execution_count": 9,
   "id": "31a75a28-9fda-4a2b-8179-4488e20d3aeb",
   "metadata": {},
   "outputs": [],
   "source": [
    "li = [3,6,2,7,1,9]"
   ]
  },
  {
   "cell_type": "code",
   "execution_count": 10,
   "id": "91b79453-72a0-47af-8e22-6002381d1fec",
   "metadata": {},
   "outputs": [
    {
     "data": {
      "text/plain": [
       "[12, 14, 18]"
      ]
     },
     "execution_count": 10,
     "metadata": {},
     "output_type": "execute_result"
    }
   ],
   "source": [
    "[elem *2 for elem in li if elem > 4]"
   ]
  },
  {
   "cell_type": "code",
   "execution_count": 11,
   "id": "92aa1d6b-4e52-4e3b-b1f7-3593d3a6ffe7",
   "metadata": {},
   "outputs": [],
   "source": [
    "li = [3,2,4,1]"
   ]
  },
  {
   "cell_type": "code",
   "execution_count": 12,
   "id": "f6a6c83d-f242-4172-b78c-0eb515c1593c",
   "metadata": {},
   "outputs": [
    {
     "data": {
      "text/plain": [
       "[8, 6, 10, 4]"
      ]
     },
     "execution_count": 12,
     "metadata": {},
     "output_type": "execute_result"
    }
   ],
   "source": [
    "[elem*2 for elem in\n",
    " [item+1 for item in li] ]"
   ]
  },
  {
   "cell_type": "code",
   "execution_count": null,
   "id": "ef9d1dd8-390c-469c-afbe-5eb9aee1e239",
   "metadata": {},
   "outputs": [],
   "source": []
  }
 ],
 "metadata": {
  "kernelspec": {
   "display_name": "Python 3",
   "language": "python",
   "name": "python3"
  },
  "language_info": {
   "codemirror_mode": {
    "name": "ipython",
    "version": 3
   },
   "file_extension": ".py",
   "mimetype": "text/x-python",
   "name": "python",
   "nbconvert_exporter": "python",
   "pygments_lexer": "ipython3",
   "version": "3.9.4"
  }
 },
 "nbformat": 4,
 "nbformat_minor": 5
}
